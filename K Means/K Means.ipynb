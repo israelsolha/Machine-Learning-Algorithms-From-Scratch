{
 "cells": [
  {
   "cell_type": "markdown",
   "metadata": {},
   "source": [
    "# K Means Clustering"
   ]
  },
  {
   "cell_type": "markdown",
   "metadata": {},
   "source": [
    "### Importing the necessary modules"
   ]
  },
  {
   "cell_type": "code",
   "execution_count": 1,
   "metadata": {},
   "outputs": [],
   "source": [
    "import matplotlib.pyplot as plt\n",
    "import numpy as np\n",
    "from sklearn.cluster import KMeans\n",
    "from copy import deepcopy\n",
    "import random"
   ]
  },
  {
   "cell_type": "markdown",
   "metadata": {},
   "source": [
    "### Creating the KMeans Class and Functions"
   ]
  },
  {
   "cell_type": "code",
   "execution_count": 2,
   "metadata": {},
   "outputs": [],
   "source": [
    "class KMeans():\n",
    "    def fit(self,data,n_clusters=2):\n",
    "        \"\"\"\n",
    "        Creates a model to cluster new data based on the K Means algorithm\n",
    "        data = training set\n",
    "        n_clusters = number of clusters to divide the data into\n",
    "        \"\"\"\n",
    "        cont=0;\n",
    "        maximum=[] # Maximum coordinates in every axis\n",
    "        minimum=[] # Minimum coordinates in every axis\n",
    "        for i in range(len(data[1])):\n",
    "            maximum.append(max(data[:,i]))\n",
    "            minimum.append(min(data[:,i]))\n",
    "        cluster_coords=[[]]\n",
    "        for _ in range(n_clusters): # Generate random coordinates for each cluster\n",
    "            coord = []\n",
    "            for i in range(len(data[1])):\n",
    "                coord.append(random.uniform(minimum[i],maximum[i])) # Initialize the cluster randomly between min and max\n",
    "            cluster_coords.append(coord)\n",
    "        cluster_coords.pop(0)\n",
    "        cluster_coords=deepcopy(cluster_coords)\n",
    "        leave=True\n",
    "        while leave:\n",
    "            cluster_relation=self.cluster_rel(data,cluster_coords) # Finds the closest cluster to every point\n",
    "            new_position=np.empty((n_clusters,data.shape[1])) # Initialize a matrix to update cluster positions\n",
    "            for i in range(cluster_relation.shape[1]):\n",
    "                assigned_position=[[]]\n",
    "                for ii in range(cluster_relation.shape[0]):\n",
    "                    if cluster_relation[ii,i] == 1:\n",
    "                        assigned_position.append(data[ii]) # Separate all points with the same assigned cluster\n",
    "                assigned_position.pop(0)\n",
    "                assigned_position = np.asarray(assigned_position)\n",
    "                avg_position=[]\n",
    "                if(assigned_position.any()):\n",
    "                    for ii in range(assigned_position.shape[1]):\n",
    "                        avg_position.append(sum(assigned_position[:,ii])/len(assigned_position[:,ii]))\n",
    "                    new_position[i,0:assigned_position.shape[1]]=avg_position # New position is the average of all points assigned to that cluster\n",
    "                else:\n",
    "                    new_position[i,0:len(cluster_coords[i])]=cluster_coords[i] # If no points were assigned, keep the same position\n",
    "            moved=0\n",
    "            for i in range(len(new_position)):\n",
    "                moved+=np.linalg.norm(new_position[i]-cluster_coords[i])\n",
    "            if(moved<=np.linalg.norm(np.asarray(maximum)-np.asarray(minimum))/100):\n",
    "                leave=False # Leave if the difference in the updated position is less than 1% of the range of the points\n",
    "            else:\n",
    "                cluster_coords=new_position # Else, continue with the same position\n",
    "            cont += 1\n",
    "        self.cluster_coords = cluster_coords\n",
    "    \n",
    "    def predict(self,x,visualization = False):\n",
    "        \"\"\"\n",
    "        Groups data into n_clusters groups based on the K Means algorithm, returning the group for each entry.\n",
    "        x = values to find cluster\n",
    "        visualization = plot the results\n",
    "        \"\"\"\n",
    "        classif = self.cluster_rel(x,self.cluster_coords)\n",
    "        ans=[] # Final cluster assigned to each point\n",
    "        for i in range(len(classif)):\n",
    "            for ii in range(len(classif[i])):\n",
    "                if classif[i][ii] == 1:\n",
    "                    ans.append(ii+1) # Append the cluster for every point\n",
    "                    break\n",
    "        if(visualization):\n",
    "            colors = ['b','g','r','c','m','y','k','w']\n",
    "            for i in range(len(x)):\n",
    "                plt.scatter(x[i,0],x[i,1],c=colors[ans[i]-1], marker = '.',s=70)\n",
    "            for i in range(len(self.cluster_coords)):\n",
    "                plt.scatter(self.cluster_coords[i,0],self.cluster_coords[i,1],c=colors[i],marker='*',s=120)\n",
    "            plt.grid()\n",
    "            plt.xlabel('x')\n",
    "            plt.ylabel('y')\n",
    "            plt.title('K Means Clustering')\n",
    "            plt.show()\n",
    "        return ans\n",
    "        \n",
    "    def cluster_rel(self,X,cluster_coords):\n",
    "        \"\"\"\n",
    "        Find the closest cluster to every point (called by fit and predict)\n",
    "        \"\"\"\n",
    "        distances=[]\n",
    "        for i in X:\n",
    "            interm_dist=[]\n",
    "            for ii in cluster_coords:\n",
    "                interm_dist.append(np.linalg.norm(i-ii)) # Calculates the distance from every cluster to every point\n",
    "            distances.append(interm_dist)\n",
    "\n",
    "        cluster_relation = deepcopy(distances)\n",
    "        for i in range(len(cluster_relation)):\n",
    "            relation =[]\n",
    "            for ii in range(len(cluster_relation[i])):\n",
    "                if cluster_relation[i][ii] == min(cluster_relation[i]):\n",
    "                    relation.append(1) # Append 1 if this is the closest cluster to the point\n",
    "                else:\n",
    "                    relation.append(0) # Append 0 otherwise\n",
    "            cluster_relation[i]=relation\n",
    "\n",
    "        cluster_relation=np.asarray(cluster_relation)\n",
    "        return cluster_relation # Returns the OneHotEncoded cluster matrix"
   ]
  },
  {
   "cell_type": "markdown",
   "metadata": {},
   "source": [
    "### Creating a Training Set"
   ]
  },
  {
   "cell_type": "code",
   "execution_count": 3,
   "metadata": {},
   "outputs": [],
   "source": [
    "data = np.array([[1,2],\n",
    "               [1.5,1.8],\n",
    "               [5,8],\n",
    "               [8,8],\n",
    "               [1,0.6],\n",
    "               [9,11],\n",
    "               [4,6],\n",
    "               [5,4],\n",
    "               [3,6],])"
   ]
  },
  {
   "cell_type": "markdown",
   "metadata": {},
   "source": [
    "### Applying Clustering Algorithm"
   ]
  },
  {
   "cell_type": "code",
   "execution_count": 4,
   "metadata": {},
   "outputs": [],
   "source": [
    "# Creating an instance of the KMeans class\n",
    "model = KMeans()"
   ]
  },
  {
   "cell_type": "code",
   "execution_count": 5,
   "metadata": {},
   "outputs": [],
   "source": [
    "# Fitting the model to the training data\n",
    "model.fit(data,n_clusters=3)"
   ]
  },
  {
   "cell_type": "code",
   "execution_count": 6,
   "metadata": {},
   "outputs": [
    {
     "data": {
      "text/plain": [
       "array([[7.33333333, 9.        ],\n",
       "       [4.        , 5.33333333],\n",
       "       [1.16666667, 1.46666667]])"
      ]
     },
     "execution_count": 6,
     "metadata": {},
     "output_type": "execute_result"
    }
   ],
   "source": [
    "# Finding the coordinates of each cluster\n",
    "model.cluster_coords"
   ]
  },
  {
   "cell_type": "code",
   "execution_count": 7,
   "metadata": {},
   "outputs": [
    {
     "data": {
      "image/png": "[encoded data removed]",
      "text/plain": [
       "<Figure size 432x288 with 1 Axes>"
      ]
     },
     "metadata": {
      "needs_background": "light"
     },
     "output_type": "display_data"
    },
    {
     "data": {
      "text/plain": [
       "[3, 3, 1, 1, 3, 1, 2, 2, 2]"
      ]
     },
     "execution_count": 7,
     "metadata": {},
     "output_type": "execute_result"
    }
   ],
   "source": [
    "model.predict(data,visualization = True)"
   ]
  },
  {
   "cell_type": "markdown",
   "metadata": {},
   "source": [
    "### Predicting a random new point based on the same Training set"
   ]
  },
  {
   "cell_type": "code",
   "execution_count": 8,
   "metadata": {},
   "outputs": [
    {
     "data": {
      "image/png": "[encoded data removed]",
      "text/plain": [
       "<Figure size 432x288 with 1 Axes>"
      ]
     },
     "metadata": {
      "needs_background": "light"
     },
     "output_type": "display_data"
    },
    {
     "data": {
      "text/plain": [
       "[3]"
      ]
     },
     "execution_count": 8,
     "metadata": {},
     "output_type": "execute_result"
    }
   ],
   "source": [
    "point = np.array([[2.5,2.5]])\n",
    "model.predict(point,visualization = True)"
   ]
  }
 ],
 "metadata": {
  "kernelspec": {
   "display_name": "Python 3",
   "language": "python",
   "name": "python3"
  },
  "language_info": {
   "codemirror_mode": {
    "name": "ipython",
    "version": 3
   },
   "file_extension": ".py",
   "mimetype": "text/x-python",
   "name": "python",
   "nbconvert_exporter": "python",
   "pygments_lexer": "ipython3",
   "version": "3.6.9"
  }
 },
 "nbformat": 4,
 "nbformat_minor": 2
}
