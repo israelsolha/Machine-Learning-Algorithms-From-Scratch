{
 "cells": [
  {
   "cell_type": "markdown",
   "metadata": {},
   "source": [
    "# Linear Regression Model From Scratch"
   ]
  },
  {
   "cell_type": "markdown",
   "metadata": {},
   "source": [
    "### Importing the necessary modules"
   ]
  },
  {
   "cell_type": "code",
   "execution_count": 1,
   "metadata": {},
   "outputs": [],
   "source": [
    "from statistics import mean\n",
    "import numpy as np\n",
    "import matplotlib.pyplot as plt\n",
    "from matplotlib import style\n",
    "import random"
   ]
  },
  {
   "cell_type": "markdown",
   "metadata": {},
   "source": [
    "### Creating the necessary functions"
   ]
  },
  {
   "cell_type": "code",
   "execution_count": 13,
   "metadata": {},
   "outputs": [],
   "source": [
    "\n",
    "def create_dataset(n_points, variance, tan=2, correlation=False):\n",
    "    \"\"\"\n",
    "    Creates a pseudo-random dataset based on number of points, variance, tangent of the line \n",
    "    and trend (positive or negative)\n",
    "    \"\"\"\n",
    "    \n",
    "    val = 1  # Initial y value                                               \n",
    "    ys = []  # List to store all generated y values                                               \n",
    "    for i in range(n_points):\n",
    "        y = val + random.randrange(-variance,variance) # Loop through every point and add random variance\n",
    "        ys.append(y)\n",
    "        if correlation and correlation == 'pos':\n",
    "            val+= tan\n",
    "        elif correlation and correlation == 'neg':\n",
    "            val -=tan\n",
    "    \n",
    "    xs = [i for i in range(len(ys))]\n",
    "    return np.array(xs), np.array(ys) # Return dataset of X and Y values"
   ]
  },
  {
   "cell_type": "code",
   "execution_count": 14,
   "metadata": {},
   "outputs": [],
   "source": [
    "def best_fit_slope_and_intercept(xs,ys):\n",
    "    \"\"\"\n",
    "    Find the best line that correspond to the Data Set\n",
    "    \"\"\"\n",
    "    m = (mean(xs) * mean(ys) - mean(xs*ys)) / (mean(xs)**2 - mean((xs)**2)) # Slope\n",
    "    b = mean(ys) - m*mean(xs) # Intercept\n",
    "\n",
    "    return m, b"
   ]
  },
  {
   "cell_type": "code",
   "execution_count": 15,
   "metadata": {},
   "outputs": [],
   "source": [
    "def squared_error(ys_orig, ys_line):\n",
    "    \"\"\"\n",
    "    Calculates the squared error of two lists of same size\n",
    "    \"\"\"\n",
    "    return sum((ys_line-ys_orig)**2)"
   ]
  },
  {
   "cell_type": "code",
   "execution_count": 16,
   "metadata": {},
   "outputs": [],
   "source": [
    "def coefficient_of_determination(ys_orig,ys_line):\n",
    "    \"\"\"\n",
    "    Calculates the R Squared coefficient of the Linear Regression\n",
    "    \"\"\"\n",
    "    y_mean_line = [mean(ys_orig) for y in ys_orig]\n",
    "    squared_error_regr = squared_error(ys_orig,ys_line)\n",
    "    squared_error_y_mean = squared_error(ys_orig, y_mean_line)\n",
    "    return 1-(squared_error_regr/squared_error_y_mean)"
   ]
  },
  {
   "cell_type": "code",
   "execution_count": 17,
   "metadata": {},
   "outputs": [],
   "source": [
    "def predict(xs,m,b):\n",
    "    \"\"\"\n",
    "    Predicts a y value for every x based on the slope m and the intercept b\n",
    "    \"\"\"\n",
    "    ys = []\n",
    "    for x in xs:\n",
    "        ys.append(m*x+b)\n",
    "    \n",
    "    return np.array(ys)"
   ]
  },
  {
   "cell_type": "markdown",
   "metadata": {},
   "source": [
    "### Creating the Data Set"
   ]
  },
  {
   "cell_type": "code",
   "execution_count": 23,
   "metadata": {},
   "outputs": [],
   "source": [
    "n_points = 50\n",
    "variance = 20\n",
    "tan = 3\n",
    "correlation = 'pos'\n",
    "\n",
    "xs,ys = create_dataset(n_points,variance,tan,correlation)"
   ]
  },
  {
   "cell_type": "markdown",
   "metadata": {},
   "source": [
    "### Finding the best curve via Linear Regression"
   ]
  },
  {
   "cell_type": "code",
   "execution_count": 24,
   "metadata": {},
   "outputs": [],
   "source": [
    "m,b = best_fit_slope_and_intercept(xs,ys)\n",
    "regression_line = [(m*x) + b for x in xs]"
   ]
  },
  {
   "cell_type": "markdown",
   "metadata": {},
   "source": [
    "### Predicting some values"
   ]
  },
  {
   "cell_type": "code",
   "execution_count": 43,
   "metadata": {},
   "outputs": [],
   "source": [
    "x_predict = [0,5,10,15,20]\n",
    "y_predict = predict(x_predict,m,b)"
   ]
  },
  {
   "cell_type": "markdown",
   "metadata": {},
   "source": [
    "### Caculating R Squared"
   ]
  },
  {
   "cell_type": "code",
   "execution_count": 26,
   "metadata": {},
   "outputs": [],
   "source": [
    "r_squared = coefficient_of_determination(ys, regression_line)"
   ]
  },
  {
   "cell_type": "markdown",
   "metadata": {},
   "source": [
    "### Plotting the Results"
   ]
  },
  {
   "cell_type": "code",
   "execution_count": 49,
   "metadata": {},
   "outputs": [
    {
     "data": {
      "image/png": "[encoded data removed]",
      "text/plain": [
       "<Figure size 432x288 with 1 Axes>"
      ]
     },
     "metadata": {
      "needs_background": "light"
     },
     "output_type": "display_data"
    }
   ],
   "source": [
    "plt.plot(xs,regression_line, color = 'b')\n",
    "plt.scatter(xs,ys, color = 'g', s = 15)\n",
    "plt.legend(['Prediction', 'Real Data'])\n",
    "plt.title('Linear Regression Model')\n",
    "plt.xlabel('x')\n",
    "plt.ylabel('y')\n",
    "plt.grid()\n",
    "plt.show()"
   ]
  }
 ],
 "metadata": {
  "kernelspec": {
   "display_name": "Python 3",
   "language": "python",
   "name": "python3"
  },
  "language_info": {
   "codemirror_mode": {
    "name": "ipython",
    "version": 3
   },
   "file_extension": ".py",
   "mimetype": "text/x-python",
   "name": "python",
   "nbconvert_exporter": "python",
   "pygments_lexer": "ipython3",
   "version": "3.6.9"
  }
 },
 "nbformat": 4,
 "nbformat_minor": 2
}
